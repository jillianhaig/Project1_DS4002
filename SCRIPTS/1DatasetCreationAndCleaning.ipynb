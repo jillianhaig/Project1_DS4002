{
  "nbformat": 4,
  "nbformat_minor": 0,
  "metadata": {
    "colab": {
      "provenance": [],
      "include_colab_link": true
    },
    "kernelspec": {
      "name": "python3",
      "display_name": "Python 3"
    },
    "language_info": {
      "name": "python"
    }
  },
  "cells": [
    {
      "cell_type": "markdown",
      "metadata": {
        "id": "view-in-github",
        "colab_type": "text"
      },
      "source": [
        "<a href=\"https://colab.research.google.com/github/jillianhaig/Project1_DS4002/blob/main/SCRIPTS/1DatasetCreationAndCleaning.ipynb\" target=\"_parent\"><img src=\"https://colab.research.google.com/assets/colab-badge.svg\" alt=\"Open In Colab\"/></a>"
      ]
    },
    {
      "cell_type": "code",
      "source": [
        "# This file creates our inital dataset by joining all of the individual movie datasets\n",
        "# Also, this file creates the UniqueID variable that distinguishes which movie has each review\n",
        "# It optionally downloads the data as DisneyMoviesDataset.csv\n",
        "# The below code also assigns each movie to a release date, defines if a movie is considered a recent release or not,\n",
        "# and conducts analysis using the VADER package"
      ],
      "metadata": {
        "id": "Wbn0iRuM4B0x"
      },
      "execution_count": null,
      "outputs": []
    },
    {
      "cell_type": "code",
      "execution_count": null,
      "metadata": {
        "colab": {
          "base_uri": "https://localhost:8080/"
        },
        "id": "HweqY7tboLSO",
        "outputId": "358bbf81-ddb8-488d-d366-4fc0e83ff603"
      },
      "outputs": [
        {
          "output_type": "stream",
          "name": "stdout",
          "text": [
            "Cloning into 'Project1_DS4002'...\n",
            "remote: Enumerating objects: 553, done.\u001b[K\n",
            "remote: Counting objects: 100% (164/164), done.\u001b[K\n",
            "remote: Compressing objects: 100% (152/152), done.\u001b[K\n",
            "remote: Total 553 (delta 102), reused 12 (delta 12), pack-reused 389 (from 1)\u001b[K\n",
            "Receiving objects: 100% (553/553), 14.46 MiB | 6.65 MiB/s, done.\n",
            "Resolving deltas: 100% (244/244), done.\n"
          ]
        }
      ],
      "source": [
        "! git clone https://github.com/jillianhaig/Project1_DS4002 # so we can access data loaded from shared github\n"
      ]
    },
    {
      "cell_type": "code",
      "source": [
        "import pandas as pd\n",
        "import os\n",
        "from datetime import datetime, timedelta"
      ],
      "metadata": {
        "id": "dRCr_sDPob2k"
      },
      "execution_count": null,
      "outputs": []
    },
    {
      "cell_type": "code",
      "source": [
        "folder_path = '/content/Project1_DS4002/Data/Individual Movie Data'\n",
        "\n",
        "# Gathers all CSV files in the folder\n",
        "csv_files = [f for f in os.listdir(folder_path) if f.endswith('.csv')]\n",
        "\n",
        "# Empty Dataframe\n",
        "dataframes = []\n",
        "\n",
        "for file in csv_files:\n",
        "    file_path = os.path.join(folder_path, file)\n",
        "    df = pd.read_csv(file_path)\n",
        "    # Adds a new column with the filename\n",
        "    df['UniqueID'] = os.path.splitext(file)[0]\n",
        "    # Append the dataframe to the list\n",
        "    dataframes.append(df)\n",
        "\n",
        "# Concatenate all dataframes\n",
        "merged_df = pd.concat(dataframes, ignore_index=True)\n",
        "\n",
        "merged_df.to_csv('DisneyMoviesDataset.csv', index=False)\n",
        "\n",
        "# Optional code to download file\n",
        "# from google.colab import files\n",
        "# files.download('DisneyMoviesDataset.csv')"
      ],
      "metadata": {
        "id": "Ip9gekQaFMEY"
      },
      "execution_count": null,
      "outputs": []
    },
    {
      "cell_type": "code",
      "source": [
        "disney_df = pd.read_csv(\"/content/Project1_DS4002/Data/Final Datasets/DisneyMoviesDataset.csv\")"
      ],
      "metadata": {
        "id": "oaJ6IklfpwgP"
      },
      "execution_count": null,
      "outputs": []
    },
    {
      "cell_type": "code",
      "source": [
        "# Define a dictionary mapping movie titles to their release dates\n",
        "movie_release_dates = {\n",
        "    'Big Hero 6': '2014-11-07',\n",
        "    'Monsters University': '2013-06-21',\n",
        "    'Lilo & Stitch': '2002-06-21',\n",
        "    'Finding Dory': '2016-06-17',\n",
        "    'Bolt': '2008-11-21',\n",
        "    'WALL·E': '2008-06-27',\n",
        "    'Zootopia': '2016-03-17',\n",
        "    'Cars 2': '2011-06-24',\n",
        "    'Finding Nemo': '2003-05-30',\n",
        "    'Monsters, Inc.': '2001-11-02',\n",
        "    'Wreck-It Ralph': '2012-11-02',\n",
        "    'Inside Out': '2015-06-19',\n",
        "    'Brave': '2012-06-22',\n",
        "    'The Incredibles': '2004-11-05',\n",
        "    'Moana': '2016-11-23',\n",
        "    'The Emperor\\'s New Groove': '2000-12-15',\n",
        "    'Tangled': '2010-11-24',\n",
        "    'Toy Story 3': '2010-06-18',\n",
        "    'Up': '2009-05-29',\n",
        "    'Frozen': '2013-11-27',\n",
        "    'Ratatouille': '2007-06-29',\n",
        "    'Cars': '2006-06-09',\n",
        "    'Toy Story 4': '2019-06-21'\n",
        "}\n",
        "\n",
        "# Map UniqueID to release_date\n",
        "def get_release_date(unique_id):\n",
        "    # Iterate over the movie_release_dates dictionary\n",
        "    for movie, release_date in movie_release_dates.items():\n",
        "        if movie in unique_id:\n",
        "            return release_date\n",
        "    return None\n",
        "\n",
        "# ***NOTE*** We had to manually the release date for 'Cars' within the dataset. This is because the naming conventions of Cars 2 and Cars.\n",
        "# Simply using the FinalDisneyDataset.csv under the Final Datasets folder when conducting your analysis\n",
        "\n",
        "# Create the new column 'release_date'\n",
        "disney_df['release_date'] = disney_df['UniqueID'].apply(get_release_date)"
      ],
      "metadata": {
        "id": "I_QnGNPxqJef"
      },
      "execution_count": null,
      "outputs": []
    },
    {
      "cell_type": "code",
      "source": [
        "def convert_date(date_str):\n",
        "    try:\n",
        "        # Convert the original date string to a datetime object\n",
        "        date_object = datetime.strptime(date_str, \"%d %B %Y\")\n",
        "        return date_object.strftime(\"%Y-%m-%d\")\n",
        "    except:\n",
        "        return date_str\n",
        "\n",
        "# Apply the conversion function to the 'date' column\n",
        "disney_df['date'] = disney_df['date'].apply(convert_date)\n",
        "\n",
        "# Convert columns to datetime format\n",
        "disney_df['date'] = pd.to_datetime(disney_df['date'])\n",
        "disney_df['release_date'] = pd.to_datetime(disney_df['release_date'])\n",
        "\n",
        "# Define the function to determine if 'date' is within one year of 'release_date'\n",
        "def is_recent(row):\n",
        "    start_date = row['release_date'] - timedelta(days=365)\n",
        "    end_date = row['release_date'] + timedelta(days=365)\n",
        "    return 1 if start_date <= row['date'] <= end_date else 0\n",
        "\n",
        "# Apply to disney_df\n",
        "disney_df['recent?'] = disney_df.apply(is_recent, axis=1)\n",
        "\n",
        "# Optional code to download dataset\n",
        "#disney_df.to_csv('CleanedDisneyMoviesDataset.csv', index=False)\n",
        "#from google.colab import files\n",
        "#files.download('CleanedDisneyMoviesDataset.csv')"
      ],
      "metadata": {
        "colab": {
          "base_uri": "https://localhost:8080/",
          "height": 17
        },
        "id": "HSd1SIadsU9i",
        "outputId": "a9f3f271-e5a4-4d82-9aaa-febb73bb8f07"
      },
      "execution_count": null,
      "outputs": [
        {
          "output_type": "display_data",
          "data": {
            "text/plain": [
              "<IPython.core.display.Javascript object>"
            ],
            "application/javascript": [
              "\n",
              "    async function download(id, filename, size) {\n",
              "      if (!google.colab.kernel.accessAllowed) {\n",
              "        return;\n",
              "      }\n",
              "      const div = document.createElement('div');\n",
              "      const label = document.createElement('label');\n",
              "      label.textContent = `Downloading \"${filename}\": `;\n",
              "      div.appendChild(label);\n",
              "      const progress = document.createElement('progress');\n",
              "      progress.max = size;\n",
              "      div.appendChild(progress);\n",
              "      document.body.appendChild(div);\n",
              "\n",
              "      const buffers = [];\n",
              "      let downloaded = 0;\n",
              "\n",
              "      const channel = await google.colab.kernel.comms.open(id);\n",
              "      // Send a message to notify the kernel that we're ready.\n",
              "      channel.send({})\n",
              "\n",
              "      for await (const message of channel.messages) {\n",
              "        // Send a message to notify the kernel that we're ready.\n",
              "        channel.send({})\n",
              "        if (message.buffers) {\n",
              "          for (const buffer of message.buffers) {\n",
              "            buffers.push(buffer);\n",
              "            downloaded += buffer.byteLength;\n",
              "            progress.value = downloaded;\n",
              "          }\n",
              "        }\n",
              "      }\n",
              "      const blob = new Blob(buffers, {type: 'application/binary'});\n",
              "      const a = document.createElement('a');\n",
              "      a.href = window.URL.createObjectURL(blob);\n",
              "      a.download = filename;\n",
              "      div.appendChild(a);\n",
              "      a.click();\n",
              "      div.remove();\n",
              "    }\n",
              "  "
            ]
          },
          "metadata": {}
        },
        {
          "output_type": "display_data",
          "data": {
            "text/plain": [
              "<IPython.core.display.Javascript object>"
            ],
            "application/javascript": [
              "download(\"download_7a7ac672-3ad0-46da-818d-1c377c4a1ffd\", \"CleanedDisneyMoviesDataset.csv\", 23218087)"
            ]
          },
          "metadata": {}
        }
      ]
    },
    {
      "cell_type": "code",
      "source": [
        "!pip install vaderSentiment"
      ],
      "metadata": {
        "colab": {
          "base_uri": "https://localhost:8080/"
        },
        "id": "f2jD_Pw3o9Eu",
        "outputId": "7e0c0c8c-dbfa-4c5d-b1e6-46650a7fb9cc"
      },
      "execution_count": null,
      "outputs": [
        {
          "output_type": "stream",
          "name": "stdout",
          "text": [
            "Collecting vaderSentiment\n",
            "  Downloading vaderSentiment-3.3.2-py2.py3-none-any.whl.metadata (572 bytes)\n",
            "Requirement already satisfied: requests in /usr/local/lib/python3.10/dist-packages (from vaderSentiment) (2.32.3)\n",
            "Requirement already satisfied: charset-normalizer<4,>=2 in /usr/local/lib/python3.10/dist-packages (from requests->vaderSentiment) (3.3.2)\n",
            "Requirement already satisfied: idna<4,>=2.5 in /usr/local/lib/python3.10/dist-packages (from requests->vaderSentiment) (3.10)\n",
            "Requirement already satisfied: urllib3<3,>=1.21.1 in /usr/local/lib/python3.10/dist-packages (from requests->vaderSentiment) (2.0.7)\n",
            "Requirement already satisfied: certifi>=2017.4.17 in /usr/local/lib/python3.10/dist-packages (from requests->vaderSentiment) (2024.8.30)\n",
            "Downloading vaderSentiment-3.3.2-py2.py3-none-any.whl (125 kB)\n",
            "\u001b[?25l   \u001b[90m━━━━━━━━━━━━━━━━━━━━━━━━━━━━━━━━━━━━━━━━\u001b[0m \u001b[32m0.0/126.0 kB\u001b[0m \u001b[31m?\u001b[0m eta \u001b[36m-:--:--\u001b[0m\r\u001b[2K   \u001b[90m━━━━━━━━━━━━━━━━━━━━━━━━━━━━━━━━━━━━━━━━\u001b[0m \u001b[32m126.0/126.0 kB\u001b[0m \u001b[31m4.9 MB/s\u001b[0m eta \u001b[36m0:00:00\u001b[0m\n",
            "\u001b[?25hInstalling collected packages: vaderSentiment\n",
            "Successfully installed vaderSentiment-3.3.2\n"
          ]
        }
      ]
    },
    {
      "cell_type": "code",
      "source": [
        "from vaderSentiment.vaderSentiment import SentimentIntensityAnalyzer"
      ],
      "metadata": {
        "id": "ZOE9SxwlpUea"
      },
      "execution_count": null,
      "outputs": []
    },
    {
      "cell_type": "code",
      "source": [
        "# Initialize VADER sentiment analyzer\n",
        "analyzer = SentimentIntensityAnalyzer()"
      ],
      "metadata": {
        "id": "Z_QM64oupV5Q"
      },
      "execution_count": null,
      "outputs": []
    },
    {
      "cell_type": "code",
      "source": [
        "# Function to get sentiment scores\n",
        "def get_sentiment_scores(review):\n",
        "    score = analyzer.polarity_scores(review)\n",
        "    return pd.Series([score['neg'], score['pos'], score['compound']])"
      ],
      "metadata": {
        "id": "te2umd2XpZdG"
      },
      "execution_count": null,
      "outputs": []
    },
    {
      "cell_type": "code",
      "source": [
        "# Apply the function to the 'review' column\n",
        "disney_df[['negative', 'positive', 'compound']] = disney_df['review'].apply(get_sentiment_scores)"
      ],
      "metadata": {
        "id": "VB4dUOt_pdDm"
      },
      "execution_count": null,
      "outputs": []
    },
    {
      "cell_type": "code",
      "source": [
        "disney_df = disney_df.drop([\"username\"], axis=1)"
      ],
      "metadata": {
        "id": "G3mtQjxJDaWw"
      },
      "execution_count": null,
      "outputs": []
    },
    {
      "cell_type": "code",
      "source": [
        "# Optional Code to Download the dataset\n",
        "\n",
        "#disney_df.to_csv('FinalDisneyDataset.csv', index=False)\n",
        "#from google.colab import files\n",
        "#files.download('FinalDisneyDataset.csv')"
      ],
      "metadata": {
        "id": "-kCq1vO6Djf7",
        "outputId": "7945bdfd-7abf-4cc7-b620-7ff45c8b6233",
        "colab": {
          "base_uri": "https://localhost:8080/",
          "height": 17
        }
      },
      "execution_count": null,
      "outputs": [
        {
          "output_type": "display_data",
          "data": {
            "text/plain": [
              "<IPython.core.display.Javascript object>"
            ],
            "application/javascript": [
              "\n",
              "    async function download(id, filename, size) {\n",
              "      if (!google.colab.kernel.accessAllowed) {\n",
              "        return;\n",
              "      }\n",
              "      const div = document.createElement('div');\n",
              "      const label = document.createElement('label');\n",
              "      label.textContent = `Downloading \"${filename}\": `;\n",
              "      div.appendChild(label);\n",
              "      const progress = document.createElement('progress');\n",
              "      progress.max = size;\n",
              "      div.appendChild(progress);\n",
              "      document.body.appendChild(div);\n",
              "\n",
              "      const buffers = [];\n",
              "      let downloaded = 0;\n",
              "\n",
              "      const channel = await google.colab.kernel.comms.open(id);\n",
              "      // Send a message to notify the kernel that we're ready.\n",
              "      channel.send({})\n",
              "\n",
              "      for await (const message of channel.messages) {\n",
              "        // Send a message to notify the kernel that we're ready.\n",
              "        channel.send({})\n",
              "        if (message.buffers) {\n",
              "          for (const buffer of message.buffers) {\n",
              "            buffers.push(buffer);\n",
              "            downloaded += buffer.byteLength;\n",
              "            progress.value = downloaded;\n",
              "          }\n",
              "        }\n",
              "      }\n",
              "      const blob = new Blob(buffers, {type: 'application/binary'});\n",
              "      const a = document.createElement('a');\n",
              "      a.href = window.URL.createObjectURL(blob);\n",
              "      a.download = filename;\n",
              "      div.appendChild(a);\n",
              "      a.click();\n",
              "      div.remove();\n",
              "    }\n",
              "  "
            ]
          },
          "metadata": {}
        },
        {
          "output_type": "display_data",
          "data": {
            "text/plain": [
              "<IPython.core.display.Javascript object>"
            ],
            "application/javascript": [
              "download(\"download_d051b3e9-54a7-4e32-9689-d864f02c5d11\", \"FinalDisneyDataset.csv\", 23315829)"
            ]
          },
          "metadata": {}
        }
      ]
    }
  ]
}